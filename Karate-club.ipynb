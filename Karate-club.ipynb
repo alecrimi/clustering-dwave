{
  "cells": [
    {
      "attachments": {},
      "cell_type": "markdown",
      "metadata": {},
      "source": [
        "## Specs"
      ]
    },
    {
      "cell_type": "code",
      "execution_count": 1,
      "metadata": {},
      "outputs": [
        {
          "name": "stdout",
          "output_type": "stream",
          "text": [
            "Clsutering Coefficient:  0.5706384782076823\n",
            "Average degree: 4.588235294117647\n",
            "Average degree centrality:  0.1390374331550802\n"
          ]
        }
      ],
      "source": [
        "import numpy as np\n",
        "import networkx as nx\n",
        "import networkx.algorithms.community as nx_comm\n",
        "\n",
        "G = nx.karate_club_graph()\n",
        "\n",
        "print(\"Clsutering Coefficient: \", nx.average_clustering(G))\n",
        "print(\"Average degree:\", np.array(G.degree()).mean(axis=0)[-1])\n",
        "degree = np.array([i for i in nx.degree_centrality(G).values()])\n",
        "print(\"Average degree centrality: \", degree.mean())"
      ]
    },
    {
      "attachments": {},
      "cell_type": "markdown",
      "metadata": {},
      "source": [
        "## Two communities"
      ]
    },
    {
      "cell_type": "code",
      "execution_count": 2,
      "metadata": {
        "colab": {
          "base_uri": "https://localhost:8080/"
        },
        "id": "UxVD8rLgWco2",
        "outputId": "7ed9dadb-c5ad-4dbe-ee73-cb98e44134da"
      },
      "outputs": [],
      "source": [
        "import numpy as np\n",
        "import networkx as nx\n",
        "import networkx.algorithms.community as nx_comm\n",
        "\n",
        "G = nx.karate_club_graph()\n",
        "result = nx_comm.louvain_communities(G, seed=None, resolution=0.5)"
      ]
    },
    {
      "cell_type": "code",
      "execution_count": 4,
      "metadata": {
        "colab": {
          "base_uri": "https://localhost:8080/",
          "height": 319
        },
        "id": "j20pLVmvDAGD",
        "outputId": "6315e48e-80e6-4d33-86c7-5ff11dc4c628"
      },
      "outputs": [
        {
          "ename": "TypeError",
          "evalue": "'_AxesStack' object is not callable",
          "output_type": "error",
          "traceback": [
            "\u001b[0;31m---------------------------------------------------------------------------\u001b[0m",
            "\u001b[0;31mTypeError\u001b[0m                                 Traceback (most recent call last)",
            "\u001b[1;32m/home/hippo/Joan/GitRepos/clustering-dwave/Karate-club.ipynb Cell 5\u001b[0m in \u001b[0;36m<cell line: 8>\u001b[0;34m()\u001b[0m\n\u001b[1;32m      <a href='vscode-notebook-cell://ssh-remote%2B7b22686f73744e616d65223a22486970706f227d/home/hippo/Joan/GitRepos/clustering-dwave/Karate-club.ipynb#W2sdnNjb2RlLXJlbW90ZQ%3D%3D?line=4'>5</a>\u001b[0m     \u001b[39melse\u001b[39;00m:\n\u001b[1;32m      <a href='vscode-notebook-cell://ssh-remote%2B7b22686f73744e616d65223a22486970706f227d/home/hippo/Joan/GitRepos/clustering-dwave/Karate-club.ipynb#W2sdnNjb2RlLXJlbW90ZQ%3D%3D?line=5'>6</a>\u001b[0m         color_map\u001b[39m.\u001b[39mappend(\u001b[39m'\u001b[39m\u001b[39mred\u001b[39m\u001b[39m'\u001b[39m)\n\u001b[0;32m----> <a href='vscode-notebook-cell://ssh-remote%2B7b22686f73744e616d65223a22486970706f227d/home/hippo/Joan/GitRepos/clustering-dwave/Karate-club.ipynb#W2sdnNjb2RlLXJlbW90ZQ%3D%3D?line=7'>8</a>\u001b[0m nx\u001b[39m.\u001b[39;49mdraw(G)\n",
            "File \u001b[0;32m~/.local/lib/python3.10/site-packages/networkx/drawing/nx_pylab.py:113\u001b[0m, in \u001b[0;36mdraw\u001b[0;34m(G, pos, ax, **kwds)\u001b[0m\n\u001b[1;32m    111\u001b[0m cf\u001b[39m.\u001b[39mset_facecolor(\u001b[39m\"\u001b[39m\u001b[39mw\u001b[39m\u001b[39m\"\u001b[39m)\n\u001b[1;32m    112\u001b[0m \u001b[39mif\u001b[39;00m ax \u001b[39mis\u001b[39;00m \u001b[39mNone\u001b[39;00m:\n\u001b[0;32m--> 113\u001b[0m     \u001b[39mif\u001b[39;00m cf\u001b[39m.\u001b[39;49m_axstack() \u001b[39mis\u001b[39;00m \u001b[39mNone\u001b[39;00m:\n\u001b[1;32m    114\u001b[0m         ax \u001b[39m=\u001b[39m cf\u001b[39m.\u001b[39madd_axes((\u001b[39m0\u001b[39m, \u001b[39m0\u001b[39m, \u001b[39m1\u001b[39m, \u001b[39m1\u001b[39m))\n\u001b[1;32m    115\u001b[0m     \u001b[39melse\u001b[39;00m:\n",
            "\u001b[0;31mTypeError\u001b[0m: '_AxesStack' object is not callable"
          ]
        },
        {
          "data": {
            "text/plain": [
              "<Figure size 432x288 with 0 Axes>"
            ]
          },
          "metadata": {},
          "output_type": "display_data"
        }
      ],
      "source": [
        "\n",
        "color_map = []\n",
        "for node in G:\n",
        "    if node in result[0]:\n",
        "        color_map.append('blue')\n",
        "    else:\n",
        "        color_map.append('red')\n",
        "\n",
        "nx.draw(G, node_color=color_map, with_labels=True)\n"
      ]
    },
    {
      "attachments": {},
      "cell_type": "markdown",
      "metadata": {},
      "source": [
        "## Four communities - Testing the effect of the initialization"
      ]
    },
    {
      "attachments": {},
      "cell_type": "markdown",
      "metadata": {},
      "source": [
        "Here we explicitly test different seeds."
      ]
    },
    {
      "cell_type": "code",
      "execution_count": 73,
      "metadata": {
        "id": "4gzAt22UeX75"
      },
      "outputs": [],
      "source": [
        "import networkx as nx\n",
        "from networkx.algorithms.community import louvain_communities, modularity\n",
        "import numpy as np\n",
        "from joblib import Parallel, delayed\n",
        "G = nx.karate_club_graph()\n",
        "\n",
        "def seed_run(seed=None, runs=100):\n",
        "  communities_lcda = []\n",
        "  results_lcda = []\n",
        "  Ncomms = 0\n",
        "  for i in range(runs):\n",
        "    communities_lcda.append(louvain_communities(G, seed=seed, resolution=1))\n",
        "    results_lcda.append(modularity(G,communities_lcda[i]))\n",
        "    Ncomms += len(communities_lcda[i])/100\n",
        "  results_lcda = np.array(results_lcda)\n",
        "  return results_lcda.mean(), results_lcda.std()/np.sqrt(runs)\n",
        "\n",
        "results = Parallel(n_jobs=4)(delayed(seed_run)(seed, runs=100) for seed in range(10000))"
      ]
    },
    {
      "cell_type": "code",
      "execution_count": 83,
      "metadata": {
        "colab": {
          "base_uri": "https://localhost:8080/",
          "height": 279
        },
        "id": "1VAVCUTWdsTG",
        "outputId": "3e9a8437-657b-43c2-82e9-f5d07d977004"
      },
      "outputs": [
        {
          "data": {
            "image/png": "[encoded data removed]",
            "text/plain": [
              "<Figure size 432x288 with 1 Axes>"
            ]
          },
          "metadata": {
            "needs_background": "light"
          },
          "output_type": "display_data"
        }
      ],
      "source": [
        "results_mod = np.array(results)[:,0]\n",
        "target = 0.42\n",
        "import matplotlib.pylab as plt\n",
        "%matplotlib inline\n",
        "plt.plot(np.arange(0,10000), results_mod, 'o', markersize=0.5)\n",
        "plt.xlabel(\"Seed number\")\n",
        "plt.ylabel(\"Modularity\")\n",
        "plt.savefig(\"./Multiple-seeds.svg\", dpi=400)"
      ]
    },
    {
      "cell_type": "code",
      "execution_count": 76,
      "metadata": {
        "colab": {
          "base_uri": "https://localhost:8080/"
        },
        "id": "1tlqkmI-H8hK",
        "outputId": "503d0c6e-1b62-4fe6-9c47-e5d397cdadf5"
      },
      "outputs": [
        {
          "data": {
            "text/plain": [
              "(0.4401682445981147, 0.007304140075588857)"
            ]
          },
          "execution_count": 76,
          "metadata": {},
          "output_type": "execute_result"
        }
      ],
      "source": [
        "np.mean(results_mod), np.std(results_mod)"
      ]
    },
    {
      "attachments": {},
      "cell_type": "markdown",
      "metadata": {},
      "source": [
        "Here we test several runs with no seed specified. Virtually no difference at all."
      ]
    },
    {
      "cell_type": "code",
      "execution_count": 92,
      "metadata": {
        "id": "J_V4DVOK_8-r"
      },
      "outputs": [],
      "source": [
        "import time\n",
        "communities_lcda = []\n",
        "results_lcda = []\n",
        "Ncomms = 0\n",
        "time_lcda = []\n",
        "for i in range(10000):\n",
        "  start = time.time()\n",
        "  lcda = louvain_communities(G, seed=None, resolution=1)\n",
        "  end = time.time()\n",
        "  total_time = end - start\n",
        "\n",
        "  time_lcda .append(total_time)\n",
        "  communities_lcda.append(lcda)\n",
        "  results_lcda.append(modularity(G,communities_lcda[i]))\n",
        "  Ncomms += len(communities_lcda[i])/10000\n",
        "\n",
        "results_lcda = np.array(results_lcda)\n",
        "time_lcda = np.array(time_lcda)"
      ]
    },
    {
      "cell_type": "code",
      "execution_count": 94,
      "metadata": {
        "colab": {
          "base_uri": "https://localhost:8080/"
        },
        "id": "7I4q3-5b1TEx",
        "outputId": "b71c6bc5-45b4-45eb-95e1-3130572259db"
      },
      "outputs": [
        {
          "name": "stdout",
          "output_type": "stream",
          "text": [
            "0.44009508911002415 0.0073706532437036645 3.890199999999761\n",
            "Mean modularity of 0.44009508911002415 with a standard deviation of 0.0073706532437036645\n",
            "LCDA took and average time of 0.002340080189704895 seconds\n",
            "The mean number of communities is 3.890199999999761\n"
          ]
        }
      ],
      "source": [
        "print(f\"Mean modularity of {results_lcda.mean()} with a standard deviation of {results_lcda.std()}\")\n",
        "print(f\"LCDA took and average time of {time_lcda.mean()} seconds\")\n",
        "print(f\"The mean number of communities is {Ncomms}\")"
      ]
    },
    {
      "cell_type": "code",
      "execution_count": 87,
      "metadata": {
        "colab": {
          "base_uri": "https://localhost:8080/",
          "height": 279
        },
        "id": "mgbYXJLa1ZI2",
        "outputId": "407726e8-b4c1-4750-aa94-4c79fcdb26f2"
      },
      "outputs": [
        {
          "data": {
            "image/png": "[encoded data removed]",
            "text/plain": [
              "<Figure size 432x288 with 1 Axes>"
            ]
          },
          "metadata": {
            "needs_background": "light"
          },
          "output_type": "display_data"
        }
      ],
      "source": [
        "import matplotlib.pylab as plt\n",
        "%matplotlib inline\n",
        "plt.plot(np.arange(0,10000), results_lcda, 'o', markersize=0.5)\n",
        "plt.xlabel(\"Run\")\n",
        "plt.ylabel(\"Modularity\")\n",
        "plt.savefig(\"./Single-seed.svg\", dpi=400)"
      ]
    }
  ],
  "metadata": {
    "colab": {
      "provenance": []
    },
    "kernelspec": {
      "display_name": "Python 3",
      "language": "python",
      "name": "python3"
    },
    "language_info": {
      "codemirror_mode": {
        "name": "ipython",
        "version": 3
      },
      "file_extension": ".py",
      "mimetype": "text/x-python",
      "name": "python",
      "nbconvert_exporter": "python",
      "pygments_lexer": "ipython3",
      "version": "3.10.6"
    },
    "vscode": {
      "interpreter": {
        "hash": "e7370f93d1d0cde622a1f8e1c04877d8463912d04d973331ad4851f04de6915a"
      }
    }
  },
  "nbformat": 4,
  "nbformat_minor": 0
}
